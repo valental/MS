{
 "cells": [
  {
   "cell_type": "markdown",
   "metadata": {},
   "source": [
    "# Ekstremi funkcija"
   ]
  },
  {
   "cell_type": "markdown",
   "metadata": {},
   "source": [
    "### Lokalni ekstremi"
   ]
  },
  {
   "cell_type": "markdown",
   "metadata": {},
   "source": [
    "**Definicija 1.** _Neka je $A \\subseteq \\mathbb{R^n}$ otvoren, $f: A\\rightarrow \\mathbb{R}$ i $c \\in A.$_\n",
    "- _Ako postoji okolina U(c) na kojoj je f(c) maksimum_\n",
    "$( \\forall x \\in U(c) \\hspace{3mm} f(c) \\ge f(x) ),$\n",
    "_kažemo da je c **lokalni maksimum**, a f(c) je vrijednost lokalnog maksimuma._\n",
    "- _Ako postoji okolina U(c) na kojoj je f(c) minimum_\n",
    "$(\\forall x \\in U(c) \\hspace{3mm} f(c) \\le f(x)),$\n",
    "_kažemo da je c **lokalni minimum**, a f(c) je vrijednost lokalnog minimuma._\n",
    "- _c je **lokalni ekstrem** ako je lokalni minimum ili lokalni minimum funkcije f._\n",
    "\n",
    "- _c je **stacionarna točka** ako je funkcija f diferencijabilna u c i $Df(c) = 0$_"
   ]
  },
  {
   "cell_type": "code",
   "execution_count": null,
   "metadata": {},
   "outputs": [],
   "source": []
  }
 ],
 "metadata": {
  "kernelspec": {
   "display_name": "Python 3",
   "language": "python",
   "name": "python3"
  },
  "language_info": {
   "codemirror_mode": {
    "name": "ipython",
    "version": 3
   },
   "file_extension": ".py",
   "mimetype": "text/x-python",
   "name": "python",
   "nbconvert_exporter": "python",
   "pygments_lexer": "ipython3",
   "version": "3.6.4"
  }
 },
 "nbformat": 4,
 "nbformat_minor": 2
}
